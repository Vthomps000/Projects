{
 "cells": [
  {
   "cell_type": "markdown",
   "metadata": {},
   "source": [
    "# DATA 620 - Final Project Proposal\n",
    "\n",
    "Jeremy OBrien, Mael Illien, Vanita Thompson"
   ]
  },
  {
   "cell_type": "markdown",
   "metadata": {},
   "source": [
    "### Brief\n",
    "\n",
    "* Your proposal should describe at a high level what you’re seeking to accomplish, and your motivation for performing this analysis. A guiding question or hypothesis to test is one good way to start. If you are going to work in a small group (encouraged!), you should also list your partners’ names. \n",
    "* You should briefly describe your data sources, plan for doing the work, and up front concerns. If you are working in a group, please describe the roles and responsibilities of each group member.\n",
    "* We’ll treat this proposal as a planning document, not a blue print containing “firm, fixed requirements.”"
   ]
  },
  {
   "cell_type": "markdown",
   "metadata": {},
   "source": [
    "### Intro\n",
    "\n",
    "A powerful analytical application of NLP is **topic modeling**, which identifies the themes present in a corpus comprised of multiple documents based on the words in those documents.  Because it can be used to uncover the thematic structure in documents, topic modeling has an array of applications in information retrieval and document mining.\n",
    "\n",
    "Topics are 'probability distributions over a fixed vocabulary' ['An overview of topic modeling and its current applications in bioinformatics'](https://springerplus.springeropen.com/articles/10.1186/s40064-016-3252-8), and it's common to use probabilistic generative models derived from LDA (Latent Dirichlet Allocation) to model in an unsupervised fashion the latent semantic structure of documents.  Topic models can be tuned and optimized in a variety of ways, including improving how topics are segregated from each other and calibrating for a useful number of topics."
   ]
  },
  {
   "cell_type": "markdown",
   "metadata": {},
   "source": [
    "### Research Question\n",
    "\n",
    "For our final project we will combine techniques from **topic modeling** and **network analysis** to address this question.\n",
    "\n",
    "*Given a text corpus comprised of multiple documents, what are the topics of those documents and how are the documents thematically related to one another?*"
   ]
  },
  {
   "cell_type": "markdown",
   "metadata": {},
   "source": [
    "### Approach\n",
    "\n",
    "#### Plan\n",
    "\n",
    "- Leverage the Reuters news corpus of nearly 11,000 articles (labeled with at least one category each; unfortunately, authorship is not labeled)\n",
    "- Using the NLTK, Spacy, and Gensim packages, implement and tune an unsupervised LDA-based topic model (i.e. without reference to the provided article topic labels)\n",
    "- Analyze model perplexity and coherence, overall topic prevalence, and topic distribution across articles\n",
    "- Generate a bipartite, weighted (likely on coherence) graph of articles and topics, and analyze its topology to identify relationships between topics\n",
    "\n",
    "#### Roles\n",
    "\n",
    "- The project can be divided into three sections:\n",
    "    - Data import and processing\n",
    "    - Topic modeling and distributions\n",
    "    - Network analysis\n",
    "- While team members will be responsible for individual sections, they will also review all sections throughout development in order to ensure consistency with project goals, offer suggestions and feedback, and to augment downstream analysis. \n",
    "\n",
    "#### Potential stretch goals or future extensions\n",
    "\n",
    "- For faster performance and better topic segregation, implement an improved LDA topic model using [MALLET](http://mallet.cs.umass.edu/topics.php) with a Gensim wrapper\n",
    "- Improve the performance of topic modeling using provided labeling article topic labels using an supervised implementation supporting multiple labels ([LLDA](http://www.mimno.org/articles/labelsandpatterns/))\n",
    "- Alternatively, to perform network analysis of the relationships between authors and topics, consider replacing the Reuters corpus with another source of news articles with authorship labels\n",
    "- Consider implementing a community detection approach to topic modeling like Hierarchical Stochastic Block Modeling ([hSBM](https://advances.sciencemag.org/content/4/7/eaaq1360))\n",
    "\n",
    "#### Considerations\n",
    "\n",
    "- We have evaluated performance of Gensim's LDA implementation on a similarly sized dataset and believe it is tractable for local machine resources, but we have not performed comprehensive technical feasibility testing\n",
    "- MALLET is Java-based and requires some installation configuration; additionally, the Gensim wrapper has shown evidence of being persnickety"
   ]
  },
  {
   "cell_type": "markdown",
   "metadata": {},
   "source": [
    "### Potential References\n",
    "\n",
    "**Topic Modeling**\n",
    "- https://en.wikipedia.org/wiki/Topic_model\n",
    "- https://springerplus.springeropen.com/articles/10.1186/s40064-016-3252-8\n",
    "- https://mimno.infosci.cornell.edu/papers/2017_fntir_tm_applications.pdf\n",
    "- https://cfss.uchicago.edu/notes/topic-modeling/\n",
    "\n",
    "**LDA**\n",
    "- https://en.wikipedia.org/wiki/Latent_Dirichlet_allocation\n",
    "- https://en.wikipedia.org/wiki/Dirichlet_distribution\n",
    "https://towardsdatascience.com/light-on-math-machine-learning-intuitive-guide-to-latent-dirichlet-allocation-437c81220158\n",
    "\n",
    "**Gensim**\n",
    "- https://radimrehurek.com/gensim/auto_examples/index.html\n",
    "- https://www.thinkinfi.com/2019/08/LDA-Gensim-Python.html\n",
    "- https://www.machinelearningplus.com/nlp/topic-modeling-gensim-python/\n",
    "- https://www.machinelearningplus.com/nlp/topic-modeling-visualization-how-to-present-results-lda-models/\n",
    "- https://towardsdatascience.com/building-a-topic-modeling-pipeline-with-spacy-and-gensim-c5dc03ffc619\n",
    "\n",
    "**Spacy**\n",
    "- https://spacy.io/\n",
    "\n",
    "**MALLET**\n",
    "- http://mallet.cs.umass.edu/topics.php\n",
    "\n",
    "**Text Network Analysis**\n",
    "- https://advances.sciencemag.org/content/4/7/eaaq1360\n",
    "- https://noduslabs.com/wp-content/uploads/2019/06/InfraNodus-Paranyushkin-WWW19-Conference.pdf\n",
    "- https://noduslabs.com/cases/tutorial-lda-text-mining-network-analysis/\n",
    "- https://github.com/michal-pikusa/text-network-analysis\n",
    "- https://github.com/martingerlach/hSBM_Topicmodel/blob/master/TopSBM-tutorial.ipynb"
   ]
  },
  {
   "cell_type": "code",
   "execution_count": null,
   "metadata": {},
   "outputs": [],
   "source": []
  }
 ],
 "metadata": {
  "kernelspec": {
   "display_name": "Python 3",
   "language": "python",
   "name": "python3"
  },
  "language_info": {
   "codemirror_mode": {
    "name": "ipython",
    "version": 3
   },
   "file_extension": ".py",
   "mimetype": "text/x-python",
   "name": "python",
   "nbconvert_exporter": "python",
   "pygments_lexer": "ipython3",
   "version": "3.7.7"
  }
 },
 "nbformat": 4,
 "nbformat_minor": 4
}
